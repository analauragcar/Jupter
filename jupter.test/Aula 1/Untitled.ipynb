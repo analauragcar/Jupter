{
 "cells": [
  {
   "cell_type": "code",
   "execution_count": 15,
   "id": "b322fa45-0fcb-40cc-9dbf-96d35a0b73f7",
   "metadata": {},
   "outputs": [
    {
     "name": "stdout",
     "output_type": "stream",
     "text": [
      "A cidade escolhida é Pesqueira\n"
     ]
    }
   ],
   "source": [
    "import random\n",
    "cid = ['Pesqueira', 'Caruaru', 'Recife', 'Arcoverde']\n",
    "escol = random.choice(cid)\n",
    "print('A cidade escolhida é', escol)"
   ]
  },
  {
   "cell_type": "code",
   "execution_count": 30,
   "id": "4878d8e7-2a98-4afb-a901-20b16030d34a",
   "metadata": {},
   "outputs": [
    {
     "name": "stdout",
     "output_type": "stream",
     "text": [
      "[1, 2, 3, 4]\n"
     ]
    }
   ],
   "source": [
    "a = [1, 2, 3]\n",
    "a.append(4)\n",
    "print(a)"
   ]
  }
 ],
 "metadata": {
  "kernelspec": {
   "display_name": "Python 3 (ipykernel)",
   "language": "python",
   "name": "python3"
  },
  "language_info": {
   "codemirror_mode": {
    "name": "ipython",
    "version": 3
   },
   "file_extension": ".py",
   "mimetype": "text/x-python",
   "name": "python",
   "nbconvert_exporter": "python",
   "pygments_lexer": "ipython3",
   "version": "3.12.4"
  }
 },
 "nbformat": 4,
 "nbformat_minor": 5
}
